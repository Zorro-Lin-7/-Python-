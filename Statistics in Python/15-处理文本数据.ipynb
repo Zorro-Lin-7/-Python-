{
 "cells": [
  {
   "cell_type": "markdown",
   "metadata": {},
   "source": [
    "真实的数据往往杂乱无章，尤其是文本数据，因为它可能包含所有类型的字符和标记， 它们可能对分析毫无意义的。\n",
    "\n",
    "* 大小写转换\n",
    "* 文本替换\n",
    "* 分隔\n",
    "* 删除\n",
    "* 切片\n",
    "* 提取某内容  Series.str.contains()   返回布尔值\n",
    "* 正则表达式"
   ]
  },
  {
   "cell_type": "code",
   "execution_count": 1,
   "metadata": {
    "collapsed": true
   },
   "outputs": [],
   "source": [
    "import pandas as pd\n",
    "import numpy as np"
   ]
  },
  {
   "cell_type": "code",
   "execution_count": 2,
   "metadata": {
    "collapsed": true
   },
   "outputs": [],
   "source": [
    "comments=pd.read_csv('https://www.kaggle.io/svf/41614/79c92bacce098553297dbeec6c7c2196/comments.csv')"
   ]
  },
  {
   "cell_type": "code",
   "execution_count": 5,
   "metadata": {
    "collapsed": false
   },
   "outputs": [
    {
     "data": {
      "text/html": [
       "<div>\n",
       "<table border=\"1\" class=\"dataframe\">\n",
       "  <thead>\n",
       "    <tr style=\"text-align: right;\">\n",
       "      <th></th>\n",
       "      <th>body</th>\n",
       "    </tr>\n",
       "  </thead>\n",
       "  <tbody>\n",
       "    <tr>\n",
       "      <th>0</th>\n",
       "      <td>Strongly encouraging sign for us.  The T-Wolve...</td>\n",
       "    </tr>\n",
       "    <tr>\n",
       "      <th>1</th>\n",
       "      <td>[My reaction.](http://4.bp.blogspot.com/-3ySob...</td>\n",
       "    </tr>\n",
       "    <tr>\n",
       "      <th>2</th>\n",
       "      <td>http://imgur.com/gallery/Zch2AWw</td>\n",
       "    </tr>\n",
       "    <tr>\n",
       "      <th>3</th>\n",
       "      <td>Wolves have more talent than they ever had rig...</td>\n",
       "    </tr>\n",
       "    <tr>\n",
       "      <th>4</th>\n",
       "      <td>Nah. Wigg is on the level of KG but where's ou...</td>\n",
       "    </tr>\n",
       "  </tbody>\n",
       "</table>\n",
       "</div>"
      ],
      "text/plain": [
       "                                                body\n",
       "0  Strongly encouraging sign for us.  The T-Wolve...\n",
       "1  [My reaction.](http://4.bp.blogspot.com/-3ySob...\n",
       "2                   http://imgur.com/gallery/Zch2AWw\n",
       "3  Wolves have more talent than they ever had rig...\n",
       "4  Nah. Wigg is on the level of KG but where's ou..."
      ]
     },
     "execution_count": 5,
     "metadata": {},
     "output_type": "execute_result"
    }
   ],
   "source": [
    "comments.head()"
   ]
  },
  {
   "cell_type": "code",
   "execution_count": 6,
   "metadata": {
    "collapsed": true
   },
   "outputs": [],
   "source": [
    "comments=comments['body']"
   ]
  },
  {
   "cell_type": "code",
   "execution_count": 7,
   "metadata": {
    "collapsed": false,
    "scrolled": true
   },
   "outputs": [
    {
     "data": {
      "text/plain": [
       "0    Strongly encouraging sign for us.  The T-Wolve...\n",
       "1    [My reaction.](http://4.bp.blogspot.com/-3ySob...\n",
       "2                     http://imgur.com/gallery/Zch2AWw\n",
       "3    Wolves have more talent than they ever had rig...\n",
       "4    Nah. Wigg is on the level of KG but where's ou...\n",
       "Name: body, dtype: object"
      ]
     },
     "execution_count": 7,
     "metadata": {},
     "output_type": "execute_result"
    }
   ],
   "source": [
    "comments.head()"
   ]
  },
  {
   "cell_type": "markdown",
   "metadata": {},
   "source": [
    "## Pandas String Functions"
   ]
  },
  {
   "cell_type": "code",
   "execution_count": 8,
   "metadata": {
    "collapsed": false
   },
   "outputs": [
    {
     "data": {
      "text/plain": [
       "\"strongly encouraging sign for us.  the t-wolves management better not screw this up and they better surround wiggins with a championship caliber team to support his superstar potential or else i wouldn't want him to sour his prime years here in minnesota just like how i felt with garnett.\\n\\ntl;dr: wolves better not fuck this up.\""
      ]
     },
     "execution_count": 8,
     "metadata": {},
     "output_type": "execute_result"
    }
   ],
   "source": [
    "comments[0].lower()    # 第一条评论转换成小写"
   ]
  },
  {
   "cell_type": "code",
   "execution_count": 9,
   "metadata": {
    "collapsed": false
   },
   "outputs": [
    {
     "data": {
      "text/plain": [
       "0    strongly encouraging sign for us.  the t-wolve...\n",
       "1    [my reaction.](http://4.bp.blogspot.com/-3ysob...\n",
       "2                     http://imgur.com/gallery/zch2aww\n",
       "3    wolves have more talent than they ever had rig...\n",
       "4    nah. wigg is on the level of kg but where's ou...\n",
       "Name: body, dtype: object"
      ]
     },
     "execution_count": 9,
     "metadata": {},
     "output_type": "execute_result"
    }
   ],
   "source": [
    "comments.str.lower().head() # 所有评论都转换成小写"
   ]
  },
  {
   "cell_type": "code",
   "execution_count": 10,
   "metadata": {
    "collapsed": false
   },
   "outputs": [
    {
     "data": {
      "text/plain": [
       "0    STRONGLY ENCOURAGING SIGN FOR US.  THE T-WOLVE...\n",
       "1    [MY REACTION.](HTTP://4.BP.BLOGSPOT.COM/-3YSOB...\n",
       "2                     HTTP://IMGUR.COM/GALLERY/ZCH2AWW\n",
       "3    WOLVES HAVE MORE TALENT THAN THEY EVER HAD RIG...\n",
       "4    NAH. WIGG IS ON THE LEVEL OF KG BUT WHERE'S OU...\n",
       "5           2004 WAS A PRETTY DAMN TALENTED TEAM DUDE.\n",
       "6                                                  :')\n",
       "7                                              *SWOON*\n",
       "Name: body, dtype: object"
      ]
     },
     "execution_count": 10,
     "metadata": {},
     "output_type": "execute_result"
    }
   ],
   "source": [
    "comments.str.upper().head(8)"
   ]
  },
  {
   "cell_type": "code",
   "execution_count": 11,
   "metadata": {
    "collapsed": false
   },
   "outputs": [
    {
     "data": {
      "text/plain": [
       "0    329\n",
       "1    101\n",
       "2     32\n",
       "3     53\n",
       "4    145\n",
       "Name: body, dtype: int64"
      ]
     },
     "execution_count": 11,
     "metadata": {},
     "output_type": "execute_result"
    }
   ],
   "source": [
    "comments.str.len().head()"
   ]
  },
  {
   "cell_type": "code",
   "execution_count": 12,
   "metadata": {
    "collapsed": false
   },
   "outputs": [
    {
     "data": {
      "text/plain": [
       "0    [Strongly, encouraging, sign, for, us., , The,...\n",
       "1    [[My, reaction.](http://4.bp.blogspot.com/-3yS...\n",
       "2                   [http://imgur.com/gallery/Zch2AWw]\n",
       "3    [Wolves, have, more, talent, than, they, ever,...\n",
       "4    [Nah., Wigg, is, on, the, level, of, KG, but, ...\n",
       "Name: body, dtype: object"
      ]
     },
     "execution_count": 12,
     "metadata": {},
     "output_type": "execute_result"
    }
   ],
   "source": [
    "comments.str.split(' ').head()  # 用空格分隔"
   ]
  },
  {
   "cell_type": "code",
   "execution_count": 13,
   "metadata": {
    "collapsed": false
   },
   "outputs": [
    {
     "data": {
      "text/plain": [
       "0    Strongly encouraging sign for us.  The T-Wolve...\n",
       "1    My reaction.](http://4.bp.blogspot.com/-3ySobv...\n",
       "2                     http://imgur.com/gallery/Zch2AWw\n",
       "3    Wolves have more talent than they ever had rig...\n",
       "4    Nah. Wigg is on the level of KG but where's ou...\n",
       "Name: body, dtype: object"
      ]
     },
     "execution_count": 13,
     "metadata": {},
     "output_type": "execute_result"
    }
   ],
   "source": [
    "comments.str.strip('[]').head() # 删除首尾的中括号"
   ]
  },
  {
   "cell_type": "code",
   "execution_count": 14,
   "metadata": {
    "collapsed": false
   },
   "outputs": [
    {
     "data": {
      "text/plain": [
       "\"Strongly encouraging sign for us.  The T-Wolves management better not screw this up and they better surround Wiggins with a championship caliber team to support his superstar potential or else I wouldn't want him to sour his prime years here in Minnesota just like how I felt with Garnett.\\n\\nTL;DR: Wolves better not fuck this up.[My reaction.](http://4.bp.blogspot.com/-3ySobv38ihc/U6yxpPwsbzI/AAAAAAAAIPo/IO8Z_wbTIVQ/s1600/2.gif)http://imgur.com/gallery/Zch2AWwWolves have more talent than they ever\""
      ]
     },
     "execution_count": 14,
     "metadata": {},
     "output_type": "execute_result"
    }
   ],
   "source": [
    "comments.str.cat()[0:500]  # 查看前500个字符"
   ]
  },
  {
   "cell_type": "code",
   "execution_count": 15,
   "metadata": {
    "collapsed": false
   },
   "outputs": [
    {
     "data": {
      "text/plain": [
       "0    Strongly e\n",
       "1    [My reacti\n",
       "2    http://img\n",
       "3    Wolves hav\n",
       "4    Nah. Wigg \n",
       "Name: body, dtype: object"
      ]
     },
     "execution_count": 15,
     "metadata": {},
     "output_type": "execute_result"
    }
   ],
   "source": [
    "comments.str.slice(0,10).head() # 所有行，各行切片前10个字符"
   ]
  },
  {
   "cell_type": "code",
   "execution_count": 17,
   "metadata": {
    "collapsed": false
   },
   "outputs": [
    {
     "data": {
      "text/plain": [
       "0    Strongly e\n",
       "1    [My reacti\n",
       "2    http://img\n",
       "3    Wolves hav\n",
       "4    Nah. Wigg \n",
       "Name: body, dtype: object"
      ]
     },
     "execution_count": 17,
     "metadata": {},
     "output_type": "execute_result"
    }
   ],
   "source": [
    "comments.str[0:10].head()"
   ]
  },
  {
   "cell_type": "code",
   "execution_count": 21,
   "metadata": {
    "collapsed": false
   },
   "outputs": [
    {
     "data": {
      "text/plain": [
       "0    Stron Wolves Rule! ncouraging sign for us.  Th...\n",
       "1    [My r Wolves Rule! on.](http://4.bp.blogspot.c...\n",
       "2            http: Wolves Rule! ur.com/gallery/Zch2AWw\n",
       "3    Wolve Wolves Rule! e more talent than they eve...\n",
       "4    Nah.  Wolves Rule! is on the level of KG but w...\n",
       "5    2004  Wolves Rule!  pretty damn talented team ...\n",
       "6                                    :') Wolves Rule! \n",
       "7                                  *swoo Wolves Rule! \n",
       "Name: body, dtype: object"
      ]
     },
     "execution_count": 21,
     "metadata": {},
     "output_type": "execute_result"
    }
   ],
   "source": [
    "comments.str.slice_replace(5, 10, \" Wolves Rule! \" ).head(8)"
   ]
  },
  {
   "cell_type": "code",
   "execution_count": 22,
   "metadata": {
    "collapsed": false
   },
   "outputs": [
    {
     "data": {
      "text/plain": [
       "0    Strongly encouraging sign for us.  The T-Pups ...\n",
       "1    [My reaction.](http://4.bp.blogspot.com/-3ySob...\n",
       "2                     http://imgur.com/gallery/Zch2AWw\n",
       "3    Pups have more talent than they ever had right...\n",
       "4    Nah. Wigg is on the level of KG but where's ou...\n",
       "5           2004 was a pretty damn talented team dude.\n",
       "6                                                  :')\n",
       "7                                              *swoon*\n",
       "Name: body, dtype: object"
      ]
     },
     "execution_count": 22,
     "metadata": {},
     "output_type": "execute_result"
    }
   ],
   "source": [
    "\n",
    "comments.str.replace(\"Wolves\", \"Pups\").head(8)"
   ]
  },
  {
   "cell_type": "code",
   "execution_count": 18,
   "metadata": {
    "collapsed": true
   },
   "outputs": [],
   "source": [
    "\n",
    "logical_index = comments.str.lower().str.contains(\"wigg|drew\")"
   ]
  },
  {
   "cell_type": "code",
   "execution_count": 19,
   "metadata": {
    "collapsed": false
   },
   "outputs": [
    {
     "data": {
      "text/plain": [
       "0     Strongly encouraging sign for us.  The T-Wolve...\n",
       "4     Nah. Wigg is on the level of KG but where's ou...\n",
       "9                            I FUCKING LOVE YOU ANDREW \n",
       "10                                   I LOVE YOU WIGGINS\n",
       "33    Yupiii!!!!!! Great Wiggins celebration!!!!! =D...\n",
       "44                         Wiggins on the level of KG?!\n",
       "45    I'm comfortable with saying that Wiggins is as...\n",
       "62       They seem so Wiggins. Did he help design them?\n",
       "63    The more I think about this the more I can und...\n",
       "64    I dig these a lot. Like the AW logo too with t...\n",
       "Name: body, dtype: object"
      ]
     },
     "execution_count": 19,
     "metadata": {},
     "output_type": "execute_result"
    }
   ],
   "source": [
    "comments[logical_index].head(10)  # 提取含‘wigg|drew'的文本"
   ]
  },
  {
   "cell_type": "code",
   "execution_count": 20,
   "metadata": {
    "collapsed": false
   },
   "outputs": [
    {
     "data": {
      "text/plain": [
       "0     True\n",
       "1     True\n",
       "2     True\n",
       "3     True\n",
       "4    False\n",
       "dtype: bool"
      ]
     },
     "execution_count": 20,
     "metadata": {},
     "output_type": "execute_result"
    }
   ],
   "source": [
    "my_series = pd.Series([\"will\",\"bill\",\"Till\",\"still\",\"gull\"])\n",
    " \n",
    "my_series.str.contains(\".ill\")     # Match any substring ending in ill"
   ]
  },
  {
   "cell_type": "code",
   "execution_count": null,
   "metadata": {
    "collapsed": true
   },
   "outputs": [],
   "source": []
  }
 ],
 "metadata": {
  "kernelspec": {
   "display_name": "Python 3",
   "language": "python",
   "name": "python3"
  },
  "language_info": {
   "codemirror_mode": {
    "name": "ipython",
    "version": 3
   },
   "file_extension": ".py",
   "mimetype": "text/x-python",
   "name": "python",
   "nbconvert_exporter": "python",
   "pygments_lexer": "ipython3",
   "version": "3.5.2"
  }
 },
 "nbformat": 4,
 "nbformat_minor": 0
}
